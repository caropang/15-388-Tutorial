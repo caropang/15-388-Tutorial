{
 "cells": [
  {
   "cell_type": "markdown",
   "metadata": {},
   "source": [
    "# Introduction"
   ]
  },
  {
   "cell_type": "markdown",
   "metadata": {},
   "source": [
    "Hi! My name is Caroline and I will be teaching you how to work with NBA play-by-play data in this tutorial! I want to demonstrate how you can use play-by-play data to calculate statistics and essential data science components for data analysis in the NBA. Specifically, I will be conducting analysis into the _______. \n",
    "\n",
    "A \"play\" in basketball is any sort of event that happens during the game such as a team scoring, rebounding a ball, or substituting a player. Essentially, it includes any event that could be of statistical significance, all in one dataset! These events are recorded along with useful information such as the players involved, current lineup for both teams, and a time stamp of when the event occured."
   ]
  },
  {
   "cell_type": "markdown",
   "metadata": {},
   "source": [
    "# Why NBA Play-By-Play Data?"
   ]
  },
  {
   "cell_type": "markdown",
   "metadata": {},
   "source": [
    "Given all the widely available team and individual statistics spanning the NBA, one may wonder the reason behind analyzing play-by-play data. \n",
    "\n",
    "The truth is, many of the advanced statistics used by the NBA and its teams today are derived from play-by-play datasets.\n",
    "\n",
    "If you're interesting in going in to basketball analytics, learning how to work with play-by-play data is crucial for your skillset!"
   ]
  },
  {
   "cell_type": "markdown",
   "metadata": {},
   "source": [
    "# The Play-By-Play Dataset"
   ]
  },
  {
   "cell_type": "markdown",
   "metadata": {},
   "source": [
    "In this tutorial, I will be utilizing an extended NBA Play-By-Play Dataset from https://eightthirtyfour.com/data which tracks the 2018-2019 season.\n",
    "\n",
    "This dataset contains plays for all 1230 regular season games which includes more than 500,000 entries.\n",
    "\n",
    "Using this data, I am looking to analyze a team's performance in advanced statistics in wins vs losses!"
   ]
  },
  {
   "cell_type": "markdown",
   "metadata": {},
   "source": [
    "# Libraries"
   ]
  },
  {
   "cell_type": "markdown",
   "metadata": {},
   "source": [
    "We will be using the following libraries to conduct our analysis."
   ]
  },
  {
   "cell_type": "code",
   "execution_count": 22,
   "metadata": {},
   "outputs": [],
   "source": [
    "import numpy as np\n",
    "import pandas as pd\n",
    "import warnings\n",
    "import matplotlib\n",
    "import matplotlib.pyplot as plt\n",
    "import numpy as np\n",
    "warnings.filterwarnings('ignore')"
   ]
  },
  {
   "cell_type": "markdown",
   "metadata": {},
   "source": [
    "# Processing the Data"
   ]
  },
  {
   "cell_type": "markdown",
   "metadata": {},
   "source": [
    "First, let's read in the CSV of the play-by-play data. We will store this data in a Pandas DataFrame."
   ]
  },
  {
   "cell_type": "code",
   "execution_count": 2,
   "metadata": {},
   "outputs": [],
   "source": [
    "plays = pd.read_csv('fixed_2018-2019_pbp.csv', low_memory = False)"
   ]
  },
  {
   "cell_type": "markdown",
   "metadata": {},
   "source": [
    "As a Bay Area native and longtime fan of the Warriors, I will be analyzing all of the Warriors games for this season!\n",
    "\n",
    "We can select all Warriors games from the dataset using the following indexing which allows us to subset the dataframe using a boolean equation."
   ]
  },
  {
   "cell_type": "code",
   "execution_count": 3,
   "metadata": {},
   "outputs": [],
   "source": [
    "# Choosing Team \n",
    "warriorsGames = plays[(plays[\"HOME_TEAM\"] == \"Warriors\") |\n",
    "                   (plays[\"AWAY_TEAM\"] == \"Warriors\")]"
   ]
  },
  {
   "cell_type": "markdown",
   "metadata": {},
   "source": [
    "In the dataset, the score of each team at the time of the play is stored in the columns `HOME_SCORE` and `AWAY_SCORE`. We have to look at the columns `HOME_TEAM` and `AWAY_TEAM` to deduce whose score it is.\n",
    "\n",
    "To make our lives easier, let's add a separate column called `WARRIORS_SCORE` and `OPPONENT_SCORE` so that can quickly index the team's score. \n",
    "\n",
    "There are multiple ways to create new columns with pandas, but I chose to use a list comprehension for readability as shown below."
   ]
  },
  {
   "cell_type": "code",
   "execution_count": 4,
   "metadata": {},
   "outputs": [],
   "source": [
    "# Adding Columns for Warriors and Opponent Score\n",
    "warriorsGames[\"WARRIORS_SCORE\"] = [warriorsGames[\"HOME_SCORE\"].iloc[i] \n",
    "                     if (warriorsGames['HOME_TEAM'].iloc[i] == \"Warriors\") \n",
    "                     else warriorsGames['AWAY_SCORE'].iloc[i] \n",
    "                     for i in range(len(warriorsGames))]\n",
    "warriorsGames[\"OPPONENT_SCORE\"] = [warriorsGames[\"HOME_SCORE\"].iloc[i]\n",
    "                        if (warriorsGames['HOME_TEAM'].iloc[i] != \"Warriors\")\n",
    "                        else warriorsGames['AWAY_SCORE'].iloc[i]\n",
    "                        for i in range(len(warriorsGames))]"
   ]
  },
  {
   "cell_type": "markdown",
   "metadata": {},
   "source": [
    "In basketball analytics, one useful thing to look at is the difference in teams' performances in games they win and lose. By looking at certain statistics, we can try and identify the factors that lead to wins and losses. \n",
    "\n",
    "Therefore, I will split the Warrior's plays/games by wins and losses.\n",
    "\n",
    "Since this is play-by-play data, we can't directly access which team won and lost. Below, I case on whether the Warriors scored more points than the other team by the end of the game in order to distinguish a win from a loss. We can then extract a list of the GAME_IDs for each scenario. We can use these IDs to split the original play data into `win_plays` and `loss_plays`."
   ]
  },
  {
   "cell_type": "code",
   "execution_count": 5,
   "metadata": {},
   "outputs": [],
   "source": [
    "# Splitting plays by games won and lost\n",
    "end_scores = warriorsGames[(warriorsGames[\"PERIOD_END\"] == True) & (warriorsGames[\"PERIOD\"] >= 4)]\n",
    "\n",
    "wins = end_scores[(end_scores[\"WARRIORS_SCORE\"] > end_scores[\"OPPONENT_SCORE\"])]\n",
    "losses = end_scores[(end_scores[\"WARRIORS_SCORE\"] < end_scores[\"OPPONENT_SCORE\"])]\n",
    "\n",
    "# Extracting list of GAME_IDs for wins and losses\n",
    "win_ids = wins['GAME_ID'].tolist()\n",
    "loss_ids = losses['GAME_ID'].tolist()\n",
    "\n",
    "# Creating separate dataframe to store plays that occured in wins and losses\n",
    "win_plays = pd.DataFrame(warriorsGames[(warriorsGames[\"GAME_ID\"].isin(win_ids))])\n",
    "loss_plays = pd.DataFrame(warriorsGames[(warriorsGames[\"GAME_ID\"].isin(loss_ids))])"
   ]
  },
  {
   "cell_type": "markdown",
   "metadata": {},
   "source": [
    "# Deriving Team Statistics per Game "
   ]
  },
  {
   "cell_type": "markdown",
   "metadata": {},
   "source": [
    "Now that we have performed some preprocessing, we can start analyzing this play-by-play data so that we can make conclusions from the data.\n",
    "\n",
    "To do this efficiently, we create a function `get_stat_filter`, which we can use to calculate certain team statistics for every game across the season. \n",
    "\n",
    "\n",
    "For example, say we want to extract the number of free throws attempted by the Warrriors for all the games that they won. We can pass in the `win_plays` dataframe as well as an expression to filter the plays by this event.\n",
    "\n",
    "This function returns a tuple of two dictionaries, one for the Warriors and one for the opposing team. Each dictionary has the number of free throws attempted for each game throughout the season, where the GAME_ID is the key, and the statistic is the value.\n",
    "\n",
    "As every play in the play-by-play dataset is marked as a specific event number, we can filter for certain events through this mark, which is found in the column `EVENTMSGTYPE`.\n",
    "\n",
    "For an extended explanation of all the different types of events and how they are identified, visit https://eightthirtyfour.com/data/extended_pbp_readme."
   ]
  },
  {
   "cell_type": "code",
   "execution_count": 6,
   "metadata": {},
   "outputs": [],
   "source": [
    "# (in param) plays: dataframe of plays\n",
    "# (in param) filter_plays: boolean expression to filter plays\n",
    "def get_stat_filter(plays, filter_plays):\n",
    "    warriors_FG_stats = {}\n",
    "    opp_FG_stats = {}\n",
    "    warriors_FG_plays = plays[filter_plays \n",
    "                           & (plays[\"PLAYER1_TEAM_NICKNAME\"] == \"Warriors\")]\n",
    "    warriors_FG_grouped = list(warriors_FG_plays.groupby(\"GAME_ID\"))\n",
    "    opp_FG_plays = plays[filter_plays \n",
    "                         & (plays[\"PLAYER1_TEAM_NICKNAME\"] != \"Warriors\")]\n",
    "    opp_FG_grouped = list(opp_FG_plays.groupby(\"GAME_ID\"))\n",
    "\n",
    "    for i in range((len(warriors_FG_grouped))):\n",
    "        warriors_FG_stats[warriors_FG_grouped[i][0]] = len(warriors_FG_grouped[i][1])\n",
    "        opp_FG_stats[opp_FG_grouped[i][0]] = len(opp_FG_grouped[i][1])\n",
    "    return (warriors_FG_stats, opp_FG_stats)"
   ]
  },
  {
   "cell_type": "markdown",
   "metadata": {},
   "source": [
    "### Field Goals Made Per Game\n",
    "\n",
    "We find each team's field goals made per game by using our function and the filter for when `EVENTMSGTYPE\" == 1`, which finds all made shots."
   ]
  },
  {
   "cell_type": "code",
   "execution_count": 7,
   "metadata": {},
   "outputs": [],
   "source": [
    "# Getting Field Goals Made/ Game\n",
    "filter_FG = (plays[\"EVENTMSGTYPE\"] == 1)\n",
    "(win_warriors_FG, win_opp_FG) = get_stat_filter(win_plays, filter_FG)\n",
    "(loss_warriors_FG, loss_opp_FG) = get_stat_filter(loss_plays, filter_FG)"
   ]
  },
  {
   "cell_type": "markdown",
   "metadata": {},
   "source": [
    "### Free Throws Attempted Per Game\n",
    "\n",
    "We find each team's free throws attempted per game by using our function and the filter for when `EVENTMSGTYPE\" == 3`, which finds all free throws."
   ]
  },
  {
   "cell_type": "code",
   "execution_count": 8,
   "metadata": {},
   "outputs": [],
   "source": [
    "# Getting Free Throws Attempted / Game\n",
    "filter_FT = (plays[\"EVENTMSGTYPE\"] == 3)\n",
    "(win_warriors_FT, win_opp_FT) = get_stat_filter(win_plays, filter_FT)\n",
    "(loss_warriors_FT, loss_opp_FT) = get_stat_filter(loss_plays, filter_FT)"
   ]
  },
  {
   "cell_type": "markdown",
   "metadata": {},
   "source": [
    "### Field Goals Attempted Per Game\n",
    "\n",
    "We find each team's field goals made per game by using our function and the filter for when `EVENTMSGTYPE\" == 1 or 2`, which finds all made and missed shots."
   ]
  },
  {
   "cell_type": "code",
   "execution_count": 9,
   "metadata": {},
   "outputs": [],
   "source": [
    "# Getting Field Goals Attempted / Game\n",
    "filter_FGA = (plays[\"EVENTMSGTYPE\"] == 1) | (plays[\"EVENTMSGTYPE\"] == 2)\n",
    "(win_warriors_FGA, win_opp_FGA) = get_stat_filter(win_plays, filter_FGA)\n",
    "(loss_warriors_FGA, loss_opp_FGA) = get_stat_filter(loss_plays, filter_FGA)"
   ]
  },
  {
   "cell_type": "markdown",
   "metadata": {},
   "source": [
    "### Turnovers Per Game\n",
    "\n",
    "We find each team's turnovers per game by using our function and the filter for when `EVENTMSGTYPE\" == 5`, which finds all turnovers."
   ]
  },
  {
   "cell_type": "code",
   "execution_count": 10,
   "metadata": {},
   "outputs": [],
   "source": [
    "# Getting Turnovers / Game\n",
    "filter_TOV = (plays[\"EVENTMSGTYPE\"] == 5)\n",
    "(win_warriors_TOV, win_opp_TOV) = get_stat_filter(win_plays, filter_TOV)\n",
    "(loss_warriors_TOV, loss_opp_TOV) = get_stat_filter(loss_plays, filter_TOV)"
   ]
  },
  {
   "cell_type": "markdown",
   "metadata": {},
   "source": [
    "### Rebounds Per Game\n",
    "\n",
    "Finding rebounds per game requires a different approach.\n",
    "\n",
    "We create a new function `get_rebounds` to get all of a team's rebounds per game. \n",
    "\n",
    "We cannot use \"get_stat_filter\" as rebounds do not adhere to the conditions of this function, as there are multiple edge cases for different types of rebounds in the play-by-play dataset that must be accounted for.\n",
    "\n",
    "In our \"get_rebounds\" function, we also account for a teams offensive and defensive rebounds:\n",
    "\n",
    "* An offensive rebound is when a team grabs a rebound after their own shot on offense.\n",
    "\n",
    "* A defensive rebound is when a team grabs a rebound after an opposing team's shot while on defense.\n",
    "\n",
    "Some of the rebounds also don't have a specific player linked to them and we are only provided the `TEAM_ID` of the rebounder. Therefore, we must find the Warriors team id to account for this.\n"
   ]
  },
  {
   "cell_type": "code",
   "execution_count": 11,
   "metadata": {},
   "outputs": [],
   "source": [
    "# Team ID for team rebounds\n",
    "warriors_id = 1610612744\n",
    "\n",
    "def get_rebounds (plays):\n",
    "    warriors_REB = {}\n",
    "    warriors_OFF_REB = {}\n",
    "    warriors_DEF_REB = {}\n",
    "    opp_REB = {}\n",
    "    opp_OFF_REB = {}\n",
    "    opp_DEF_REB = {}\n",
    "    # Group all shots, free throws, and rebounds, combining all possible rebound combinations\n",
    "    shots_and_rebounds = plays[(plays[\"EVENTMSGTYPE\"] == 2) |\n",
    "                              (plays[\"EVENTMSGTYPE\"] == 3) |\n",
    "                              (plays[\"EVENTMSGTYPE\"] == 4)].copy() # made shot or free throw\n",
    "    s_and_r_grouped = list(shots_and_rebounds.groupby(\"GAME_ID\"))\n",
    "    \n",
    "    for i in range(len(s_and_r_grouped)):\n",
    "        for j in range(1, len(s_and_r_grouped[i][1])):\n",
    "            game = s_and_r_grouped[i][1]\n",
    "            game_id = s_and_r_grouped[i][0]\n",
    "            if (game[\"EVENTMSGTYPE\"].iloc[j] == 4): # Rebound\n",
    "                # Find team which made previous shot\n",
    "                shot_team = game[\"PLAYER1_TEAM_NICKNAME\"].iloc[j-1]\n",
    "                reb_team = game[\"PLAYER1_TEAM_NICKNAME\"].iloc[j]\n",
    "                if (pd.isnull(reb_team)):\n",
    "                    if game[\"PLAYER1_ID\"].iloc[j] == warriors_id:\n",
    "                        reb_team = \"Warriors\"\n",
    "                    else: reb_team = \"Other\"\n",
    "                # Determine Offensive or Defensive Rebound\n",
    "                if shot_team == \"Warriors\":\n",
    "                    # Warriors offensive rebound, collecting own team's shot\n",
    "                    if reb_team == \"Warriors\":\n",
    "                        if game_id not in warriors_OFF_REB:\n",
    "                            warriors_OFF_REB[game_id] = 1\n",
    "                        else: warriors_OFF_REB[game_id] += 1\n",
    "                    # Opponent defensive rebound, collecting warrriors team's shot\n",
    "                    else:\n",
    "                        if game_id not in opp_DEF_REB:\n",
    "                            opp_DEF_REB[game_id] = 1\n",
    "                        else: opp_DEF_REB[game_id] += 1\n",
    "                else:\n",
    "                    # Warriors defensive rebound, collecting opposing team's shot\n",
    "                    if reb_team == \"Warriors\":\n",
    "                        if game_id not in warriors_DEF_REB:\n",
    "                            warriors_DEF_REB[game_id] = 1\n",
    "                        else: warriors_DEF_REB[game_id] += 1\n",
    "                    # Opponent offensive rebound, collecting own team's shot\n",
    "                    else:\n",
    "                        if game_id not in opp_OFF_REB:\n",
    "                            opp_OFF_REB[game_id] = 1\n",
    "                        else: opp_OFF_REB[game_id] += 1\n",
    "    warriors_REB['offense'] = warriors_OFF_REB\n",
    "    warriors_REB['defense'] = warriors_DEF_REB\n",
    "    opp_REB['offense'] = opp_OFF_REB\n",
    "    opp_REB['defense'] = opp_DEF_REB\n",
    "    return (warriors_REB, opp_REB)"
   ]
  },
  {
   "cell_type": "markdown",
   "metadata": {},
   "source": [
    "We find the Warriors' and their opposing teams' rebounds per game in wins and losses below."
   ]
  },
  {
   "cell_type": "code",
   "execution_count": 12,
   "metadata": {},
   "outputs": [],
   "source": [
    "(win_warriors_REB, win_opp_REB) = get_rebounds(win_plays)\n",
    "(loss_warriors_REB, loss_opp_REB) = get_rebounds(loss_plays)"
   ]
  },
  {
   "cell_type": "markdown",
   "metadata": {},
   "source": [
    "### 3 Pointers Per Game\n",
    "\n",
    "We also create a new function for getting the Warrior's and opposing teams' 3 pointers per game.\n",
    "\n",
    "Much like our way of finding rebounds per game, keeping track of 3 pointers requires checking for more edge cases than our \"get_stat_filter\" function.\n",
    "\n",
    "Threfore, we find all the three pointers by filterting to look at all points scored throughout a game, and checking for each event if the event incremented the points scored for either team by 3 points.\n"
   ]
  },
  {
   "cell_type": "code",
   "execution_count": 13,
   "metadata": {},
   "outputs": [],
   "source": [
    "# Getting 3P / Game\n",
    "def get_3P (plays):\n",
    "    warriors_3P = {}\n",
    "    opp_3P = {}\n",
    "    # Filter to look at all events where points were scored\n",
    "    points_scored = plays[(plays[\"EVENTMSGTYPE\"] == 1) |\n",
    "                          (plays[\"EVENTMSGTYPE\"] == 3) |\n",
    "                          (plays[\"TIME\"] == 0)] \n",
    "    points_scored_grouped = list(points_scored.groupby(\"GAME_ID\"))\n",
    "    for i in range(len(points_scored_grouped)):\n",
    "        for j in range(1, len(points_scored_grouped[i][1])):\n",
    "            game = points_scored_grouped[i][1]\n",
    "            game_id = points_scored_grouped[i][0]\n",
    "            # Checks if event is a made shot\n",
    "            if (game[\"EVENTMSGTYPE\"].iloc[j] == 1):\n",
    "                # Checks if warriors score increments by 3, counting for three point shot\n",
    "                if (game[\"WARRIORS_SCORE\"].iloc[j] - game[\"WARRIORS_SCORE\"].iloc[j-1]) == 3:\n",
    "                    if game_id not in warriors_3P:\n",
    "                        warriors_3P[game_id] = 1\n",
    "                    else: warriors_3P[game_id] += 1\n",
    "                # Checks if opposing team's score increments by 3, counting for three point shot\n",
    "                elif (game[\"OPPONENT_SCORE\"].iloc[j] - game[\"OPPONENT_SCORE\"].iloc[j-1]) == 3:\n",
    "                    if game_id not in opp_3P:\n",
    "                        opp_3P[game_id] = 1\n",
    "                    else: opp_3P[game_id] += 1\n",
    "    return (warriors_3P, opp_3P)\n",
    "\n",
    "(win_warriors_3P, win_opp_3P) = get_3P(win_plays)\n",
    "(loss_warriors_3P, loss_opp_3P) = get_3P(loss_plays)"
   ]
  },
  {
   "cell_type": "markdown",
   "metadata": {},
   "source": [
    "# Calculating Advanced Game Statistics\n",
    "\n",
    "Now that we have our base Warriors game stats in wins and losses, we can calculate some advanced statistics which will give us insight into the Warriors' performance when they win or lose!\n",
    "\n",
    "We will calculate an important component of basketball analytics: Dean Oliver's Four Factors of Basketball Success.\n",
    "\n",
    "The Four Factors consist of:\n",
    "\n",
    "* Efficient Field Goal Percentage = (Field Goals Made + 0.5 * Three Pointers Made) / Field Goals Attempted\n",
    "* Turnover Percentage = Turnovers / (Field Goals Attempted + 0.44 * Free Throws Attempted + Turnovers)\n",
    "* Rebounding Percentage = (Offensive Rebounds / (Offensive Rebounds + Opponent Defensive Rebounds)) for Offense, (Defensive Rebounds / (Defensive Rebounds + Opponent Offensive Rebounds)) for Defense\n",
    "* Free Throw Percentage = Free Throws Attempted/Field Goals Attempted\n",
    "\n",
    "The Four Factors capture the four important components to winning a basketball game; shooting, ball control (turnovers), rebounding, and free throws are all represented by the advanced statistics of the four factors.\n",
    "\n",
    "We calculate the Warriors' four factors in wins and losses below."
   ]
  },
  {
   "cell_type": "markdown",
   "metadata": {},
   "source": [
    "### Calculating Efficient Field Goal Percentage"
   ]
  },
  {
   "cell_type": "markdown",
   "metadata": {},
   "source": [
    "We define our function for finding the Efficient Field Goal Percentage for every game below using our given formula.\n",
    "\n",
    "* Efficient Field Goal Percentage = (Field Goals Made + 0.5 * Three Pointers Made) / Field Goals Attempted"
   ]
  },
  {
   "cell_type": "code",
   "execution_count": 14,
   "metadata": {},
   "outputs": [],
   "source": [
    "#(FG + 0.5 * 3P) / FGA\n",
    "def calculate_eFG(field_goals, three_pointers, field_goals_attempted):\n",
    "    eFG_per_game = {}\n",
    "    #loop through every game\n",
    "    for game_id in field_goals:\n",
    "        FG = field_goals[game_id]\n",
    "        threeP = three_pointers[game_id]\n",
    "        FGA = field_goals_attempted[game_id]\n",
    "        # allocate stat to dictionary under key value of game\n",
    "        eFG_per_game[game_id] = ((FG + (0.5*threeP)) / FGA) #efficient field goal percentage formula\n",
    "    return eFG_per_game\n",
    "\n",
    "# Warriors eFG% in wins and losses\n",
    "win_eFG_warriors = calculate_eFG(win_warriors_FG, win_warriors_3P, win_warriors_FGA)\n",
    "loss_eFG_warriors = calculate_eFG(loss_warriors_FG, loss_warriors_3P, loss_warriors_FGA)\n",
    "# Warriors' Opponent eFG% in wins and losses\n",
    "win_eFG_opp = calculate_eFG(win_opp_FG, win_opp_3P, win_opp_FGA)\n",
    "loss_eFG_opp = calculate_eFG(loss_opp_FG, loss_opp_3P, loss_opp_FGA)"
   ]
  },
  {
   "cell_type": "markdown",
   "metadata": {},
   "source": [
    "### Calculating Turnover Percentage\n",
    "\n",
    "We define our function for finding the Turnover Percentage for every game below using our given formula.\n",
    "\n",
    "* Turnover Percentage = Turnovers / (Field Goals Attempted + 0.44 * Free Throws Attempted + Turnovers)"
   ]
  },
  {
   "cell_type": "code",
   "execution_count": 15,
   "metadata": {},
   "outputs": [],
   "source": [
    "def calculate_TOV_stat(field_goals_attempted, turnovers, free_throws_attempted):\n",
    "    TOV_stat_per_game = {}\n",
    "    # Loop through every game\n",
    "    for game_id in field_goals_attempted:\n",
    "        FGA = field_goals_attempted[game_id]\n",
    "        TOV = turnovers[game_id]\n",
    "        FTA = free_throws_attempted[game_id]\n",
    "        # Allocate stat to dictionary under key value of game\n",
    "        TOV_stat_per_game[game_id] = TOV / (FGA + 0.44 * FTA + TOV) # Turnover percentage formula\n",
    "    return TOV_stat_per_game\n",
    "        \n",
    "# Warriors turnover percentage in wins and losses\n",
    "win_TOV_warriors = calculate_TOV_stat(win_warriors_FGA, win_warriors_TOV, win_warriors_FT)\n",
    "loss_TOV_warriors = calculate_TOV_stat(loss_warriors_FGA, loss_warriors_TOV, loss_warriors_FT)\n",
    "# Warriors' opponent turnover percentage in wins and losses\n",
    "win_TOV_opp = calculate_TOV_stat(win_opp_FGA, win_opp_TOV, win_opp_FT)\n",
    "loss_TOV_opp = calculate_TOV_stat(loss_opp_FGA, loss_opp_TOV, loss_opp_FT)"
   ]
  },
  {
   "cell_type": "markdown",
   "metadata": {},
   "source": [
    "### Calculating Offensive and Defensive Rebounding Percentage\n",
    "We define our function for finding the Turnover Percentage for every game below using our given formula.\n",
    "\n",
    "* Rebounding Percentage = (Offensive Rebounds / (Offensive Rebounds + Opponent Defensive Rebounds)) for Offense, (Defensive Rebounds / (Defensive Rebounds + Opponent Offensive Rebounds)) for Defense"
   ]
  },
  {
   "cell_type": "code",
   "execution_count": 16,
   "metadata": {},
   "outputs": [],
   "source": [
    "# Rebounds\n",
    "# ORB / (ORB + Opp DRB)\n",
    "# DRB / (Opp ORB + DRB)\n",
    "\n",
    "def calculate_OFF_REB_Stat(OFF_REB, opp_DEF_REB):\n",
    "    OFF_REB_per_game = {}\n",
    "    # Loop through every game\n",
    "    for game_id in OFF_REB:\n",
    "        ORB = OFF_REB[game_id]\n",
    "        opp_DRB = opp_DEF_REB[game_id]\n",
    "        # Allocate stat to dictionary under key value of game\n",
    "        OFF_REB_per_game[game_id] = ORB / (ORB + opp_DRB) # Offensive Rebounding Percentage Formula\n",
    "    return OFF_REB_per_game\n",
    "\n",
    "def calculate_DEF_REB_Stat(DEF_REB, opp_OFF_REB):\n",
    "    DEF_REB_per_game = {}\n",
    "    # Loop through every ga,e\n",
    "    for game_id in DEF_REB:\n",
    "        DRB = DEF_REB[game_id]\n",
    "        opp_ORB = opp_OFF_REB[game_id]\n",
    "        # Allocate stat to dictionary under key value of game\n",
    "        DEF_REB_per_game[game_id] = DRB / (opp_ORB + DRB) # Defensive Rebounding Percentage Formula\n",
    "    return DEF_REB_per_game\n",
    "\n",
    "# Warriors and opponents offensive rebound values in Warriors wins\n",
    "win_warriors_OFF_REB = calculate_OFF_REB_Stat(win_warriors_REB[\"offense\"], win_opp_REB[\"defense\"])\n",
    "win_opp_OFF_REB = calculate_OFF_REB_Stat(win_opp_REB[\"offense\"], win_warriors_REB[\"defense\"])\n",
    "# Warriors and opponents defensive rebound values in Warriors wins\n",
    "win_warriors_DEF_REB = calculate_DEF_REB_Stat(win_warriors_REB[\"defense\"], win_opp_REB[\"offense\"])\n",
    "win_opp_DEF_REB = calculate_DEF_REB_Stat(win_opp_REB[\"defense\"], win_warriors_REB[\"offense\"])    \n",
    "# Warriors and opponents offensive rebound values in Warriors losses\n",
    "loss_warriors_OFF_REB = calculate_OFF_REB_Stat(loss_warriors_REB[\"offense\"], loss_opp_REB[\"defense\"])\n",
    "loss_opp_OFF_REB = calculate_OFF_REB_Stat(loss_opp_REB[\"offense\"], loss_warriors_REB[\"defense\"]) \n",
    "# Warriors and opponents defensive rebound values in Warriors losses\n",
    "loss_warriors_DEF_REB = calculate_DEF_REB_Stat(loss_warriors_REB[\"defense\"], loss_opp_REB[\"offense\"])\n",
    "loss_opp_DEF_REB = calculate_DEF_REB_Stat(loss_opp_REB[\"defense\"], loss_warriors_REB[\"offense\"])  "
   ]
  },
  {
   "cell_type": "markdown",
   "metadata": {},
   "source": [
    "### Calculating Free Throw Percentage\n",
    "\n",
    "We define our function for finding the Free Throw Percentage for every game below using our given formula.\n",
    "\n",
    "* Free Throw Percentage = Free Throws Attempted/Field Goals Attempted"
   ]
  },
  {
   "cell_type": "code",
   "execution_count": 17,
   "metadata": {},
   "outputs": [],
   "source": [
    "# FT / FGA\n",
    "def calculate_FT_stat(field_goals_attempted, free_throws_attempted):\n",
    "    FT_stat_per_game = {}\n",
    "    # Loop through every game\n",
    "    for game_id in field_goals_attempted:\n",
    "        FGA = field_goals_attempted[game_id]\n",
    "        FTA = free_throws_attempted[game_id]\n",
    "        # Allocate stat to dictionary under key value of game\n",
    "        FT_stat_per_game[game_id] = FTA / FGA # Free throw percentage formula\n",
    "    return FT_stat_per_game\n",
    "\n",
    "# Warriors free throw percentage in Warriors wins\n",
    "win_FT_warriors = calculate_FT_stat(win_warriors_FGA, win_warriors_FT)\n",
    "# Warriors free throw percentage in Warriors losses\n",
    "loss_FT_warriors = calculate_FT_stat(loss_warriors_FGA, loss_warriors_FT)\n",
    "# Warriors opponents free throw percentage in Warriors wins\n",
    "win_FT_opp = calculate_FT_stat(win_opp_FGA, win_opp_FT)\n",
    "# Warriors opponents free throw percentage in Warriors losses\n",
    "loss_FT_opp = calculate_FT_stat(loss_opp_FGA, loss_opp_FT)"
   ]
  },
  {
   "cell_type": "markdown",
   "metadata": {},
   "source": [
    "# Visualizing Our Findings"
   ]
  },
  {
   "cell_type": "markdown",
   "metadata": {},
   "source": [
    "Now that we have calculated our advanced statistics in Warriors' wins and losses, we want to analyse their perfomance through visualization.\n",
    "\n",
    "We will visualize the Warriors' and Warriors' opponents Four Factors in Wins and Losses using the matplotlib package.\n",
    "\n",
    "We want to display the Four Factors in Wins and Losses in a grouped bar chart, with the Warriors and Warriors' opponent shown side by side."
   ]
  },
  {
   "cell_type": "markdown",
   "metadata": {},
   "source": [
    "## Data for Visualization"
   ]
  },
  {
   "cell_type": "markdown",
   "metadata": {},
   "source": [
    "We gather our Four Factor data below by finding the mean values for all factors across the 2018-2019 season in wins and losses."
   ]
  },
  {
   "cell_type": "code",
   "execution_count": 18,
   "metadata": {},
   "outputs": [],
   "source": [
    "def mean(values):\n",
    "    l = list(values)\n",
    "    return round(100*sum(l)/len(l),1)\n",
    "\n",
    "# Mean values in Warriors wins\n",
    "warriors_means = [mean(win_eFG_warriors.values()), mean(win_TOV_warriors.values()) , mean(win_warriors_OFF_REB.values())\n",
    "              , mean(win_warriors_DEF_REB.values()), mean(win_FT_warriors.values())]\n",
    "opp_means = [mean(win_eFG_opp.values()), mean(win_TOV_opp.values()) , mean(win_opp_OFF_REB.values())\n",
    "              , mean(win_opp_DEF_REB.values()), mean(win_FT_opp.values())]\n",
    "# Mean values in Warriors losses\n",
    "warriors_means2 = [mean(loss_eFG_warriors.values()), mean(loss_TOV_warriors.values()) , mean(loss_warriors_OFF_REB.values())\n",
    "              , mean(loss_warriors_DEF_REB.values()), mean(loss_FT_warriors.values())]\n",
    "opp_means2 = [mean(loss_eFG_opp.values()), mean(loss_TOV_opp.values()) , mean(loss_opp_OFF_REB.values())\n",
    "              , mean(loss_opp_DEF_REB.values()), mean(loss_FT_opp.values())]"
   ]
  },
  {
   "cell_type": "markdown",
   "metadata": {},
   "source": [
    "### Warriors Four Factors in Wins\n",
    "\n",
    "We create our chart for the Warriors and Warriors' Opponents Performance in the Four Factors in the Warriors wins during the 2018-2019 season below!"
   ]
  },
  {
   "cell_type": "code",
   "execution_count": 19,
   "metadata": {},
   "outputs": [
    {
     "data": {
      "image/png": "[encoded data removed]",
      "text/plain": [
       "<Figure size 432x288 with 1 Axes>"
      ]
     },
     "metadata": {},
     "output_type": "display_data"
    }
   ],
   "source": [
    "plt.style.use('ggplot')\n",
    "labels = ['eFG%', 'TOV%', 'ORB%', 'DRB%', 'Free Throw Factor']\n",
    "x = np.arange(len(labels))  # the label locations\n",
    "width = 0.4  # the width of the bars\n",
    "\n",
    "fig, ax = plt.subplots()\n",
    "rects1 = ax.bar(x - width/2, warriors_means, width, label= 'Warriors', color = '#006BB6')\n",
    "rects2 = ax.bar(x + width/2, opp_means, width, label= 'Opponent', color = '#FDB927')\n",
    "\n",
    "#y-axis label\n",
    "ax.set_ylabel('Percentage')\n",
    "# chart title\n",
    "ax.set_title('4 Factors Average in Warriors Wins')\n",
    "# x axis labels\n",
    "ax.set_xticks(x)\n",
    "#y axis labels\n",
    "ax.set_yticks([0, 10, 20, 30, 40, 50, 60, 70, 80, 90, 100])\n",
    "ax.set_xticklabels(labels)\n",
    "ax.bar_label(rects1, padding = 2)\n",
    "ax.bar_label(rects2, padding = 2)\n",
    "#display legend\n",
    "ax.legend()\n",
    "\n",
    "\n",
    "\n",
    "fig.tight_layout()\n",
    "\n",
    "plt.show()\n"
   ]
  },
  {
   "cell_type": "markdown",
   "metadata": {},
   "source": [
    "### Warriors Four Factors in Losses\n",
    "\n",
    "We create our chart for the Warriors and Warriors' Opponents Performance in the Four Factors in the Warriors losses during the 2018-2019 season below!"
   ]
  },
  {
   "cell_type": "code",
   "execution_count": 20,
   "metadata": {},
   "outputs": [
    {
     "data": {
      "image/png": "[encoded data removed]",
      "text/plain": [
       "<Figure size 432x288 with 1 Axes>"
      ]
     },
     "metadata": {},
     "output_type": "display_data"
    }
   ],
   "source": [
    "labels2 = ['eFG%', 'TOV%', 'ORB%', 'DRB%', 'Free Throw Factor']\n",
    "x = np.arange(len(labels))  # the label locations\n",
    "fig, ax = plt.subplots()\n",
    "rects1 = ax.bar(x - width/2, warriors_means2, width, label='Warriors', color = '#006BB6')\n",
    "rects2 = ax.bar(x + width/2, opp_means2, width, label='Opponent', color = '#FDB927')\n",
    "\n",
    "ax.set_ylabel('Percentage')\n",
    "ax.set_title('4 Factors Average in Warriors Losses')\n",
    "ax.set_xticks(x)\n",
    "ax.set_yticks([0, 10, 20, 30, 40, 50, 60, 70, 80, 90, 100])\n",
    "ax.set_xticklabels(labels2)\n",
    "ax.bar_label(rects1, padding = 2)\n",
    "ax.bar_label(rects2, padding = 2)\n",
    "ax.legend()\n",
    "\n",
    "fig.tight_layout()\n",
    "plt.show()"
   ]
  },
  {
   "cell_type": "markdown",
   "metadata": {},
   "source": [
    "### Difference of Four Factors in Warriors Wins and Losses\n",
    "\n",
    "We create our chart for the Difference in Four Factor Performance in Warriors wins and losses during the 2018-2019 season below! We can see the biggest points that factor into Warriors' victories and losses!"
   ]
  },
  {
   "cell_type": "code",
   "execution_count": 21,
   "metadata": {},
   "outputs": [
    {
     "data": {
      "image/png": "[encoded data removed]",
      "text/plain": [
       "<Figure size 432x288 with 1 Axes>"
      ]
     },
     "metadata": {},
     "output_type": "display_data"
    }
   ],
   "source": [
    "warriors_diff = [0,0,0,0,0]\n",
    "opp_diff = [0,0,0,0,0]\n",
    "\n",
    "width = .2\n",
    "for i in range(5):\n",
    "    warriors_diff[i] = round(warriors_means[i] - warriors_means2[i],2)\n",
    "    opp_diff[i] = round(opp_means[i] - opp_means2[i],2)\n",
    "\n",
    "labels3 = ['eFG%', 'TOV%', 'ORB%', 'DRB%', 'Free Throw Factor']\n",
    "x = np.arange(len(labels))  # the label locations\n",
    "fig, ax = plt.subplots()\n",
    "rects1 = ax.bar(x - width/2, warriors_diff, width, label='Warriors', color = '#006BB6')\n",
    "rects2 = ax.bar(x + width/2, opp_diff, width, label='Opponent', color = '#FDB927')\n",
    "\n",
    "ax.set_ylabel('Percentage')\n",
    "ax.set_title('4 Factors Difference in Wins and Losses')\n",
    "ax.set_xticks(x)\n",
    "ax.set_yticks([-10,-5,0,5,10])\n",
    "ax.set_xticklabels(labels2)\n",
    "ax.bar_label(rects1, padding = 2)\n",
    "ax.bar_label(rects2, padding = 2)\n",
    "ax.legend()\n",
    "\n",
    "\n",
    "fig.tight_layout()\n",
    "plt.show()\n"
   ]
  },
  {
   "cell_type": "markdown",
   "metadata": {},
   "source": [
    "As we can see in our chart, the biggest differences in the Warriors wins and losses happen to be in Efficient Field Goal Percentage category. We can conclude that the biggest factor in the Warriors winning and losing was their shooting performance. However, it is easy to see that the Warriors perform better in every single category in their wins, and their opponents do worse in the four factor categories in losses. The impact of the four factors on the outcome of games can be easily seen in this graph!\n",
    "\n",
    "What can we do with this information? Whether you're working in the Warriors front office or a fan watching TV, being able to interpret statistics behind the game of basketball leads to methods of team performance improvement and a better understanding of the sport!"
   ]
  },
  {
   "cell_type": "markdown",
   "metadata": {},
   "source": [
    "# Conclusion\n",
    "\n",
    "Thank you for taking the time to read my tutorial on using Python to analyze NBA play-by-play datasets through data science methods! If you're interesting in exploring more about NBA analytics and play-by-play datasets, check out these websites!\n",
    "\n",
    "EightThirtyFour NBA Play-By-Play Datasets and Info: https://eightthirtyfour.com/data\n",
    "\n",
    "Kaggle NBA Play-By Play Dataset: https://www.kaggle.com/schmadam97/nba-playbyplay-data-20182019\n",
    "\n",
    "New Advanced Stats Provided by NBA CourtOptix: https://www.nba.com/news/nba-courtoptix\n",
    "\n",
    "NBA Data Science Articles: https://towardsdatascience.com/tagged/nba"
   ]
  }
 ],
 "metadata": {
  "kernelspec": {
   "display_name": "Python 3",
   "language": "python",
   "name": "python3"
  },
  "language_info": {
   "codemirror_mode": {
    "name": "ipython",
    "version": 3
   },
   "file_extension": ".py",
   "mimetype": "text/x-python",
   "name": "python",
   "nbconvert_exporter": "python",
   "pygments_lexer": "ipython3",
   "version": "3.8.5"
  }
 },
 "nbformat": 4,
 "nbformat_minor": 4
}
